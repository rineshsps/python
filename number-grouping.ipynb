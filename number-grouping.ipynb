{
 "cells": [
  {
   "cell_type": "code",
   "execution_count": 1,
   "metadata": {},
   "outputs": [
    {
     "name": "stdout",
     "output_type": "stream",
     "text": [
      "---start--\n",
      "Group 1 (Sum = 9):\n",
      "4.00\n",
      "5.00\n",
      "Group 2 (Sum = 6):\n",
      "1.00\n",
      "2.00\n",
      "3.00\n",
      "---end--\n"
     ]
    }
   ],
   "source": [
    "from itertools import combinations\n",
    "\n",
    "def factorial_iterative(n):\n",
    "    result = 1\n",
    "    for i in range(1, n + 1):\n",
    "        result *= i\n",
    "    return result\n",
    "\n",
    "def create_groups(data, sum1, sum2):\n",
    "    n = len(data)\n",
    "    #fac = factorial_iterative(n)\n",
    "    print(\"---start--\")\n",
    "     \n",
    "    for i in range(1, n):\n",
    "        \n",
    "        #print(f\"Factorial of {n}: {i}\")\n",
    "        # Generate all combinations of the data with size i\n",
    "        for combo in combinations(data, i):\n",
    "            group1 = list(combo)\n",
    "            ##print(f\"combination {n}: {i}\")\n",
    "            group2 = [x for x in data if x not in group1]\n",
    "            \n",
    "            if sum(group1) == sum1 and sum(group2) == sum2:\n",
    "                # Print the results in table format\n",
    "                print(f\"Group 1 (Sum = {sum1}):\")\n",
    "                print_table(group1)\n",
    "\n",
    "                print(f\"Group 2 (Sum = {sum2}):\")\n",
    "                print_table(group2)\n",
    "                return\n",
    "\n",
    "    print(\"Error: It's not possible to find two groups with the specified sums.\")\n",
    "\n",
    "def print_table(data):\n",
    "    # Print data in a table format\n",
    "    if data:\n",
    "        max_length = max(len(str(item)) for item in data)\n",
    "        for item in data:\n",
    "            print(f\"{item:{max_length}.2f}\")\n",
    "    else:\n",
    "        print(\"No data in this group.\")\n",
    "\n",
    "if __name__ == \"__main__\":\n",
    "    # Example usage with your provided data and desired sums\n",
    "    total_data =  [\n",
    "    1,2,3,4,5\n",
    "    ]\n",
    " \n",
    "     \n",
    "    sum1_result =  9\n",
    "    sum2_result = 6\n",
    "    \n",
    "\n",
    "    create_groups(total_data, sum1_result, sum2_result)\n",
    "    print(\"---end--\")"
   ]
  }
 ],
 "metadata": {
  "kernelspec": {
   "display_name": "Python 3",
   "language": "python",
   "name": "python3"
  },
  "language_info": {
   "codemirror_mode": {
    "name": "ipython",
    "version": 3
   },
   "file_extension": ".py",
   "mimetype": "text/x-python",
   "name": "python",
   "nbconvert_exporter": "python",
   "pygments_lexer": "ipython3",
   "version": "3.11.0"
  },
  "orig_nbformat": 4
 },
 "nbformat": 4,
 "nbformat_minor": 2
}
